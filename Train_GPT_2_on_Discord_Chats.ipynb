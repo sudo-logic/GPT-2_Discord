{
  "cells": [
    {
      "cell_type": "markdown",
      "metadata": {
        "id": "view-in-github",
        "colab_type": "text"
      },
      "source": [
        "<a href=\"https://colab.research.google.com/github/sudo-logic/Train_GPT_2_on_Discord_Chats/blob/main/Train_GPT_2_on_Discord_Chats.ipynb\" target=\"_parent\"><img src=\"https://colab.research.google.com/assets/colab-badge.svg\" alt=\"Open In Colab\"/></a>"
      ]
    },
    {
      "cell_type": "markdown",
      "metadata": {
        "id": "H7LoMj4GA4n_"
      },
      "source": [
        "#  Training a GPT-2 Text-Generating Model on Discord Chats\n",
        "\n",
        "by [Ayush Mishra](https://github.com/sudo-logic)\n",
        "\n",
        "\n",
        "Retraining a Text Generation Model on Discord Chats using `gpt-2-simple` that wraps existing model fine-tuning and generation scripts for OpenAI's GPT-2.\n",
        "\n",
        "\n",
        "For more about `gpt-2-simple`, you can visit [this GitHub repository](https://github.com/minimaxir/gpt-2-simple)."
      ]
    },
    {
      "cell_type": "markdown",
      "metadata": {
        "id": "V39etOh1fQAg"
      },
      "source": [
        "##GPU\n",
        "\n",
        "GPU Hardware Acceleration is needed to make the model training magnitudes faster. \n",
        "\n",
        "Make sure you have selected GPU as your Hardware Accelerator in Runtime Settings.\n",
        "\n",
        "You can verify which GPU is active by running the cell below."
      ]
    },
    {
      "cell_type": "code",
      "execution_count": null,
      "metadata": {
        "id": "jFNEcEJ4EPWN"
      },
      "outputs": [],
      "source": [
        "!nvidia-smi"
      ]
    },
    {
      "cell_type": "markdown",
      "metadata": {
        "id": "yDHKgMymcGZJ"
      },
      "source": [
        "##Install and import dependencies"
      ]
    },
    {
      "cell_type": "code",
      "execution_count": null,
      "metadata": {
        "id": "rYaApsdd4spo"
      },
      "outputs": [],
      "source": [
        "!pip install -q gpt-2-simple \n",
        "import gpt_2_simple as gpt2\n",
        "from datetime import datetime\n",
        "import requests\n"
      ]
    },
    {
      "cell_type": "markdown",
      "metadata": {
        "id": "1lstKFOKcP-D"
      },
      "source": [
        "##Addressing Variables\n",
        "The number of messages and Channel ID to be scraped along with the User/Bot Token for authorization need to be specified."
      ]
    },
    {
      "cell_type": "code",
      "execution_count": null,
      "metadata": {
        "id": "eXQ4sqAM9jaD"
      },
      "outputs": [],
      "source": [
        "auth_token = '' #Looks like 'MzgxNDUxMjcxNTg2MTg1MjI3.YWwWOg.CI7-cRZCpGjB8pN4whQxOaOZ4S5'\n",
        "channel_id = 1234567789 #Looks like 750068339375603725\n",
        "message_count = 50000"
      ]
    },
    {
      "cell_type": "markdown",
      "metadata": {
        "id": "jhdBgoipdEP8"
      },
      "source": [
        "##Gathering the Training Data\n",
        "Scrape the Discord chats using raw GET requests and save them in a data.txt file after proper formatting."
      ]
    },
    {
      "cell_type": "code",
      "execution_count": null,
      "metadata": {
        "id": "e257z0pU4_Mv"
      },
      "outputs": [],
      "source": [
        "headers = {'authorization': auth_token,}\n",
        "params = {\n",
        "  'limit': '100',\n",
        "}\n",
        "\n",
        "params['before'] = None\n",
        "\n",
        "data = []\n",
        "chat_data = []\n",
        "for i in range(int(message_count/100)):\n",
        "  messages = requests.get(f'https://discord.com/api/v9/channels/{channel_id}/messages', headers=headers, params=params).json()\n",
        "  print(messages)\n",
        "  for message in messages:\n",
        "    data.append(message)\n",
        "\n",
        "    chat_data.append(f\"{message['author']['username']}: {message['content']}\")\n",
        "\n",
        "  params['before'] = messages[-1]['id']\n",
        "\n",
        "print(\"Scraped Discord Messages Successfully\")\n",
        "\n",
        "content = '\\n'.join(chat_data)\n",
        "open('data.txt','w').write(content)"
      ]
    },
    {
      "cell_type": "markdown",
      "metadata": {
        "id": "ypk0hxRZdz5g"
      },
      "source": [
        "##Downloading GPT-2\n",
        "\n",
        "If you're retraining a model on new text, you need to download the GPT-2 model first. \n",
        "\n",
        "There are three released sizes of GPT-2:\n",
        "\n",
        "* `124M` (default): the \"small\" model, 500MB on disk.\n",
        "* `355M`: the \"medium\" model, 1.5GB on disk.\n",
        "* `774M`: the \"large\" model, cannot currently be finetuned with Colaboratory but can be used to generate text from the pretrained model (see later in Notebook)\n",
        "* `1558M`: the \"extra large\", true model. Will not work if a K80/P4 GPU is attached to the notebook. (like `774M`, it cannot be finetuned).\n",
        "\n",
        "Larger models have more knowledge, but take longer to finetune and longer to generate text. You can specify which base model to use by changing `model_name` in the cells below.\n",
        "\n",
        "---\n",
        "\n",
        "I have used the \"small\" model simply because it trains quicker. Larger models will give out more accurate outputs."
      ]
    },
    {
      "cell_type": "code",
      "execution_count": null,
      "metadata": {
        "colab": {
          "base_uri": "https://localhost:8080/"
        },
        "id": "7-N6UsR043Iq",
        "outputId": "2fb4c8fb-70b2-40d5-f124-1d31fc8882c9"
      },
      "outputs": [
        {
          "output_type": "stream",
          "name": "stderr",
          "text": [
            "Fetching checkpoint: 1.05Mit [00:00, 226Mit/s]                                                      \n",
            "Fetching encoder.json: 1.05Mit [00:00, 5.48Mit/s]\n",
            "Fetching hparams.json: 1.05Mit [00:00, 415Mit/s]                                                    \n",
            "Fetching model.ckpt.data-00000-of-00001: 498Mit [00:10, 48.6Mit/s]                                  \n",
            "Fetching model.ckpt.index: 1.05Mit [00:00, 580Mit/s]                                                \n",
            "Fetching model.ckpt.meta: 1.05Mit [00:00, 6.35Mit/s]\n",
            "Fetching vocab.bpe: 1.05Mit [00:00, 7.37Mit/s]\n"
          ]
        }
      ],
      "source": [
        "gpt2.download_gpt2(model_name=\"124M\")"
      ]
    },
    {
      "cell_type": "markdown",
      "metadata": {
        "id": "om4bqm5ckee8"
      },
      "source": [
        "## Finetuning\n",
        "\n",
        "The next cell will start the actual finetuning of GPT-2. It creates a persistent TensorFlow session which stores the training config, then runs the training for the specified number of `steps`. (to have the finetuning run indefinitely, set `steps = -1`)\n",
        "\n",
        "The model checkpoints will be saved in `/checkpoint/run1` by default. The checkpoints are saved every 500 steps (can be changed) and when the cell is stopped.\n",
        "\n",
        "The training might time out after 4ish hours; make sure you end training and save the results so you don't lose them!\n",
        "\n",
        "**IMPORTANT NOTE:** If you want to rerun this cell, **restart the VM first** (Runtime -> Restart Runtime). You will need to rerun imports but not recopy files.\n",
        "\n",
        "Other optional-but-helpful parameters for `gpt2.finetune`:\n",
        "\n",
        "\n",
        "*  **`restore_from`**: Set to `fresh` to start training from the base GPT-2, or set to `latest` to restart training from an existing checkpoint.\n",
        "* **`sample_every`**: Number of steps to print example output\n",
        "* **`print_every`**: Number of steps to print training progress.\n",
        "* **`learning_rate`**:  Learning rate for the training. (default `1e-4`, can lower to `1e-5` if you have <1MB input data)\n",
        "*  **`run_name`**: subfolder within `checkpoint` to save the model. This is useful if you want to work with multiple models (will also need to specify  `run_name` when loading the model)\n",
        "* **`overwrite`**: Set to `True` if you want to continue finetuning an existing model (w/ `restore_from='latest'`) without creating duplicate copies. "
      ]
    },
    {
      "cell_type": "code",
      "execution_count": null,
      "metadata": {
        "id": "p02qIyQk45_N"
      },
      "outputs": [],
      "source": [
        "sess = gpt2.start_tf_sess()\n",
        "\n",
        "gpt2.finetune(sess,\n",
        "              dataset='data.txt',\n",
        "              model_name='124M',\n",
        "              steps=100,\n",
        "              restore_from='fresh',\n",
        "              run_name='run1',\n",
        "              print_every=1,\n",
        "              sample_every=20,\n",
        "              save_every=50\n",
        "              )\n"
      ]
    },
    {
      "cell_type": "markdown",
      "source": [
        "##Generating Text!\n",
        "\n",
        "Now the final step, we generate text while tuning the parameters as per our requirement!\n",
        "\n",
        "*  **`length`**: Number of tokens to generate (default 1023, the maximum)\n",
        "* **`temperature`**: The higher the temperature, the crazier the text (default 0.7, recommended to keep between 0.7 and 1.0)\n",
        "* **`top_k`**: Limits the generated guesses to the top *k* guesses (default 0 which disables the behavior; if the generated output is super crazy, you may want to set `top_k=40`)\n",
        "* **`top_p`**: Nucleus sampling: limits the generated guesses to a cumulative probability. (gets good results on a dataset with `top_p=0.9`)\n",
        "* **`truncate`**: Truncates the input text until a given sequence, excluding that sequence (e.g. if `truncate='<|endoftext|>'`, the returned text will include everything before the first `<|endoftext|>`). It may be useful to combine this with a smaller `length` if the input texts are short.\n",
        "*  **`include_prefix`**: If using `truncate` and `include_prefix=False`, the specified `prefix` will not be included in the returned text.\n"
      ],
      "metadata": {
        "id": "5gdkbixvedFR"
      }
    },
    {
      "cell_type": "code",
      "execution_count": null,
      "metadata": {
        "id": "Y0VByLmQCtIl"
      },
      "outputs": [],
      "source": [
        "gpt2.generate(sess, \n",
        "              length=250,\n",
        "              temperature=0.7,\n",
        "              prefix=\"Jack: I'm \",\n",
        "              nsamples=5,\n",
        "              batch_size=5)"
      ]
    },
    {
      "cell_type": "markdown",
      "source": [
        "##Final Thoughts\n",
        "\n",
        "\n",
        "This was done as a fun little project. The above method is extremely versatile and can be put into use on a multitude of scenarios thanks to how the wrapper package makes it super easy to implement.\n",
        "\n",
        "##Citations\n",
        "gpt-2-simple - https://github.com/minimaxir/gpt-2-simple\n",
        "\n",
        "Max Woolf's Blog - https://minimaxir.com/"
      ],
      "metadata": {
        "id": "JV1JmaipoRKZ"
      }
    }
  ],
  "metadata": {
    "accelerator": "GPU",
    "colab": {
      "collapsed_sections": [],
      "name": "Train GPT-2 on Discord Chats.ipynb",
      "toc_visible": true,
      "provenance": [],
      "authorship_tag": "ABX9TyOPOQKtB7ARZ2mC0GGwhCjA",
      "include_colab_link": true
    },
    "kernelspec": {
      "display_name": "Python 3",
      "name": "python3"
    },
    "language_info": {
      "name": "python"
    }
  },
  "nbformat": 4,
  "nbformat_minor": 0
}